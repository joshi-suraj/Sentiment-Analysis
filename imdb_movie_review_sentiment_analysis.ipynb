{
  "cells": [
    {
      "cell_type": "markdown",
      "metadata": {
        "id": "ncjf64mLJBk7"
      },
      "source": [
        "<div class=\"alert alert-primary\" style=\"margin-top: 20px\">\n",
        "\n",
        "\n",
        "<h1><center><Strong>IMDB Sentiment Analysis</strong></center></h1>\n",
        "\n",
        "</div>"
      ]
    },
    {
      "cell_type": "markdown",
      "metadata": {
        "id": "QJ3lXLjrJBk_"
      },
      "source": [
        "\n",
        "\n",
        "\n",
        "<div class=\"alert alert-primary\" style=\"margin-top: 20px\">\n",
        "\n",
        "<strong><h2>Dataset Story:</h2></strong>\n",
        "<blockquote><p>IMDB dataset having 50K movie reviews for natural language processing or Text analytics.\n",
        "This is a dataset for binary sentiment classification containing substantially more data than previous benchmark datasets. We provide a set of 25,000 highly polar movie reviews for training and 25,000 for testing. So, predict the number of positive and negative reviews using either classification or deep learning algorithms.</p>\n",
        "</blockquote>\n",
        "<ul>\n",
        "    \n",
        "</ul>\n",
        "<strong><h2>Features:</h2></strong>\n",
        "<ul>\n",
        "<li>Total Features : 2</li>\n",
        "<li>Total Row : 50000 </li>\n",
        "<li>CSV File Size : 66.21 MB</li>\n",
        "\n",
        "</ul>\n",
        "</div>"
      ]
    },
    {
      "cell_type": "markdown",
      "metadata": {
        "id": "DPaYq3hXJBlA"
      },
      "source": [
        "### [For more dataset information](http://ai.stanford.edu/~amaas/data/sentiment/)    \n",
        "\n",
        "\n",
        "\n",
        "\n"
      ]
    },
    {
      "cell_type": "code",
      "execution_count": null,
      "metadata": {
        "id": "QvNRAud3JBlB"
      },
      "outputs": [],
      "source": [
        "import numpy as np\n",
        "import pandas as pd\n",
        "import matplotlib.pyplot as plt\n",
        "import seaborn as sns\n",
        "from sklearn.feature_extraction.text import CountVectorizer\n",
        "from sklearn.linear_model import LogisticRegression\n",
        "from sklearn.ensemble import RandomForestClassifier\n",
        "from sklearn.tree import DecisionTreeClassifier\n",
        "from sklearn.metrics import f1_score, accuracy_score\n",
        "from bs4 import BeautifulSoup\n",
        "import re\n",
        "import nltk\n",
        "from sklearn.model_selection import train_test_split\n",
        "from sklearn.utils import shuffle\n",
        "from nltk.corpus import stopwords\n",
        "\n",
        "import warnings\n",
        "warnings.filterwarnings(\"ignore\")"
      ]
    },
    {
      "cell_type": "code",
      "execution_count": null,
      "metadata": {
        "id": "imRMv0qgJBlD"
      },
      "outputs": [],
      "source": [
        "# Loading Data\n",
        "df_ = pd.read_csv('IMDB Dataset.csv')"
      ]
    },
    {
      "cell_type": "code",
      "execution_count": null,
      "metadata": {
        "id": "rzxzHk6CJBlE"
      },
      "outputs": [],
      "source": [
        "df = df_.copy()"
      ]
    },
    {
      "cell_type": "markdown",
      "metadata": {
        "id": "hLAjkw_3JBlF"
      },
      "source": [
        "## Examining Data\n",
        "---"
      ]
    },
    {
      "cell_type": "code",
      "execution_count": null,
      "metadata": {
        "colab": {
          "base_uri": "https://localhost:8080/"
        },
        "id": "7854pzQeJBlF",
        "outputId": "d7b240cb-fb98-4c46-802a-8032d787971c"
      },
      "outputs": [
        {
          "name": "stdout",
          "output_type": "stream",
          "text": [
            "--------------------- Shape --------------------\n",
            "(50000, 2)\n",
            "-------------------- Types ---------------------\n",
            "review       object\n",
            "sentiment    object\n",
            "dtype: object\n",
            "----------------- NaN Analysis -----------------\n",
            "Empty DataFrame\n",
            "Columns: [Total Missing Values, Ratio]\n",
            "Index: []\n",
            "--------------------- Head ---------------------\n",
            "                                              review sentiment\n",
            "0  One of the other reviewers has mentioned that ...  positive\n",
            "1  A wonderful little production. <br /><br />The...  positive\n",
            "2  I thought this was a wonderful way to spend ti...  positive\n",
            "3  Basically there's a family where a little boy ...  negative\n",
            "4  Petter Mattei's \"Love in the Time of Money\" is...  positive\n"
          ]
        }
      ],
      "source": [
        "def missing_values_analysis(df):\n",
        "    na_columns_ = [col for col in df.columns if df[col].isnull().sum() > 0]\n",
        "    n_miss = df[na_columns_].isnull().sum().sort_values(ascending=True)\n",
        "    ratio_ = (df[na_columns_].isnull().sum() / df.shape[0] * 100).sort_values(ascending=True)\n",
        "    missing_df = pd.concat([n_miss, np.round(ratio_, 2)], axis=1, keys=['Total Missing Values', 'Ratio'])\n",
        "    missing_df = pd.DataFrame(missing_df)\n",
        "    return missing_df\n",
        "\n",
        "def check_df(df, head=5):\n",
        "    print(\"--------------------- Shape --------------------\")\n",
        "    print(df.shape)\n",
        "    print(\"-------------------- Types ---------------------\")\n",
        "    print(df.dtypes)\n",
        "    print(\"----------------- NaN Analysis -----------------\")\n",
        "    print(missing_values_analysis(df))\n",
        "    print(\"--------------------- Head ---------------------\")\n",
        "    print(df.head())\n",
        "\n",
        "check_df(df)"
      ]
    },
    {
      "cell_type": "code",
      "execution_count": null,
      "metadata": {
        "colab": {
          "base_uri": "https://localhost:8080/",
          "height": 530
        },
        "id": "R6ipuvs9JBlG",
        "outputId": "4e66c2c5-9b8c-4a5c-fad6-590ff81d096d"
      },
      "outputs": [
        {
          "data": {
            "image/png": "[encoded data removed]",
            "text/plain": [
              "<Figure size 2200x900 with 2 Axes>"
            ]
          },
          "metadata": {},
          "output_type": "display_data"
        }
      ],
      "source": [
        "a , ax = plt.subplots(1,2,figsize=(22,9))\n",
        "df['sentiment'].value_counts().plot.pie(explode=[0,0.1], autopct='%1.2f%%',ax=ax[0],shadow=True, startangle=300, colors = [\"#bcbddc\", \"#efedf5\"])\n",
        "ax[0].set_title('Distribution of Positive / Negative Emotions')\n",
        "ax[0].set_ylabel('')\n",
        "sns.countplot(x='sentiment', data = df ,ax=ax[1], palette=[\"#bcbddc\", \"#efedf5\"])\n",
        "ax[1].set_title('Distribution of Positive / Negative Emotions')\n",
        "plt.show()"
      ]
    },
    {
      "cell_type": "code",
      "execution_count": null,
      "metadata": {
        "colab": {
          "base_uri": "https://localhost:8080/"
        },
        "id": "7R4ZqF92JBlH",
        "outputId": "90e8b7c2-03ec-467b-d885-f0c4f8b12212"
      },
      "outputs": [
        {
          "data": {
            "text/plain": [
              "positive    25000\n",
              "negative    25000\n",
              "Name: sentiment, dtype: int64"
            ]
          },
          "execution_count": 10,
          "metadata": {},
          "output_type": "execute_result"
        }
      ],
      "source": [
        "df['sentiment'].value_counts()"
      ]
    },
    {
      "cell_type": "markdown",
      "metadata": {
        "id": "3oRPoJKKJBlI"
      },
      "source": [
        "## Everything is going well...\n",
        "----\n",
        "\n",
        "<div class=\"alert alert-block alert-info\">\n",
        "        <b> We didn't find any missing values and everything seems fine. The distribution of our data is good. There are 50,000 observation units in total (Emotional distribution: positive 50% / negative 50%) and 2 features. We can move on to the cleaning phase.</b>\n",
        "</div>\n",
        "<br>"
      ]
    },
    {
      "cell_type": "code",
      "execution_count": null,
      "metadata": {
        "id": "WzD9G34yJBlU"
      },
      "outputs": [],
      "source": [
        "# First, we will delete HTML tags from review sentences using the BeautifulSoup module,"
      ]
    },
    {
      "cell_type": "markdown",
      "metadata": {
        "id": "wMIr_ZTBJBlU"
      },
      "source": [
        "<div style=\"color:white;\n",
        "           display:fill;\n",
        "           border-radius:5px;\n",
        "           background-color:crimson;\n",
        "           font-size:110%;\n",
        "           font-family:Verdana;\n",
        "           letter-spacing:0.5px\">\n",
        " To explain how these processes are done, first let's choose a single review and see how it is done for you:\n",
        "</div>"
      ]
    },
    {
      "cell_type": "code",
      "execution_count": null,
      "metadata": {
        "colab": {
          "base_uri": "https://localhost:8080/",
          "height": 140
        },
        "id": "RK-lRGPJJBlU",
        "outputId": "f9da308c-6f92-44dd-de5b-a073cf757a59"
      },
      "outputs": [
        {
          "data": {
            "application/vnd.google.colaboratory.intrinsic+json": {
              "type": "string"
            },
            "text/plain": [
              "\"One of the other reviewers has mentioned that after watching just 1 Oz episode you'll be hooked. They are right, as this is exactly what happened with me.<br /><br />The first thing that struck me about Oz was its brutality and unflinching scenes of violence, which set in right from the word GO. Trust me, this is not a show for the faint hearted or timid. This show pulls no punches with regards to drugs, sex or violence. Its is hardcore, in the classic use of the word.<br /><br />It is called OZ as that is the nickname given to the Oswald Maximum Security State Penitentary. It focuses mainly on Emerald City, an experimental section of the prison where all the cells have glass fronts and face inwards, so privacy is not high on the agenda. Em City is home to many..Aryans, Muslims, gangstas, Latinos, Christians, Italians, Irish and more....so scuffles, death stares, dodgy dealings and shady agreements are never far away.<br /><br />I would say the main appeal of the show is due to the fact that it goes where other shows wouldn't dare. Forget pretty pictures painted for mainstream audiences, forget charm, forget romance...OZ doesn't mess around. The first episode I ever saw struck me as so nasty it was surreal, I couldn't say I was ready for it, but as I watched more, I developed a taste for Oz, and got accustomed to the high levels of graphic violence. Not just violence, but injustice (crooked guards who'll be sold out for a nickel, inmates who'll kill on order and get away with it, well mannered, middle class inmates being turned into prison bitches due to their lack of street skills or prison experience) Watching Oz, you may become comfortable with what is uncomfortable viewing....thats if you can get in touch with your darker side.\""
            ]
          },
          "execution_count": 12,
          "metadata": {},
          "output_type": "execute_result"
        }
      ],
      "source": [
        "example_review = df.review[0]\n",
        "example_review"
      ]
    },
    {
      "cell_type": "code",
      "execution_count": null,
      "metadata": {
        "colab": {
          "base_uri": "https://localhost:8080/",
          "height": 140
        },
        "id": "N6_QE0SiJBlV",
        "outputId": "3804127e-8a32-469a-eed7-01fe4bd90b06"
      },
      "outputs": [
        {
          "data": {
            "application/vnd.google.colaboratory.intrinsic+json": {
              "type": "string"
            },
            "text/plain": [
              "\"One of the other reviewers has mentioned that after watching just 1 Oz episode you'll be hooked. They are right, as this is exactly what happened with me.The first thing that struck me about Oz was its brutality and unflinching scenes of violence, which set in right from the word GO. Trust me, this is not a show for the faint hearted or timid. This show pulls no punches with regards to drugs, sex or violence. Its is hardcore, in the classic use of the word.It is called OZ as that is the nickname given to the Oswald Maximum Security State Penitentary. It focuses mainly on Emerald City, an experimental section of the prison where all the cells have glass fronts and face inwards, so privacy is not high on the agenda. Em City is home to many..Aryans, Muslims, gangstas, Latinos, Christians, Italians, Irish and more....so scuffles, death stares, dodgy dealings and shady agreements are never far away.I would say the main appeal of the show is due to the fact that it goes where other shows wouldn't dare. Forget pretty pictures painted for mainstream audiences, forget charm, forget romance...OZ doesn't mess around. The first episode I ever saw struck me as so nasty it was surreal, I couldn't say I was ready for it, but as I watched more, I developed a taste for Oz, and got accustomed to the high levels of graphic violence. Not just violence, but injustice (crooked guards who'll be sold out for a nickel, inmates who'll kill on order and get away with it, well mannered, middle class inmates being turned into prison bitches due to their lack of street skills or prison experience) Watching Oz, you may become comfortable with what is uncomfortable viewing....thats if you can get in touch with your darker side.\""
            ]
          },
          "execution_count": 13,
          "metadata": {},
          "output_type": "execute_result"
        }
      ],
      "source": [
        "# After cleaning the HTML tags... 😌\n",
        "example_review = BeautifulSoup(example_review).get_text()\n",
        "example_review"
      ]
    },
    {
      "cell_type": "code",
      "execution_count": null,
      "metadata": {
        "colab": {
          "base_uri": "https://localhost:8080/",
          "height": 140
        },
        "id": "bhPjtc-bJBlV",
        "outputId": "edbe021e-b90a-4336-f1e3-cd55d1177a4f"
      },
      "outputs": [
        {
          "data": {
            "application/vnd.google.colaboratory.intrinsic+json": {
              "type": "string"
            },
            "text/plain": [
              "'One of the other reviewers has mentioned that after watching just   Oz episode you ll be hooked  They are right  as this is exactly what happened with me The first thing that struck me about Oz was its brutality and unflinching scenes of violence  which set in right from the word GO  Trust me  this is not a show for the faint hearted or timid  This show pulls no punches with regards to drugs  sex or violence  Its is hardcore  in the classic use of the word It is called OZ as that is the nickname given to the Oswald Maximum Security State Penitentary  It focuses mainly on Emerald City  an experimental section of the prison where all the cells have glass fronts and face inwards  so privacy is not high on the agenda  Em City is home to many  Aryans  Muslims  gangstas  Latinos  Christians  Italians  Irish and more    so scuffles  death stares  dodgy dealings and shady agreements are never far away I would say the main appeal of the show is due to the fact that it goes where other shows wouldn t dare  Forget pretty pictures painted for mainstream audiences  forget charm  forget romance   OZ doesn t mess around  The first episode I ever saw struck me as so nasty it was surreal  I couldn t say I was ready for it  but as I watched more  I developed a taste for Oz  and got accustomed to the high levels of graphic violence  Not just violence  but injustice  crooked guards who ll be sold out for a nickel  inmates who ll kill on order and get away with it  well mannered  middle class inmates being turned into prison bitches due to their lack of street skills or prison experience  Watching Oz  you may become comfortable with what is uncomfortable viewing    thats if you can get in touch with your darker side '"
            ]
          },
          "execution_count": 14,
          "metadata": {},
          "output_type": "execute_result"
        }
      ],
      "source": [
        "# we clean it from punctuation and numbers - using regex. {Regular expression}\n",
        "example_review = re.sub(\"[^a-zA-Z]\",' ',example_review)\n",
        "example_review"
      ]
    },
    {
      "cell_type": "markdown",
      "metadata": {
        "id": "rPAE8KClJBlV"
      },
      "source": [
        "## An important point! - 1\n",
        "---"
      ]
    },
    {
      "cell_type": "markdown",
      "metadata": {
        "id": "NFkfiTPjJBlW"
      },
      "source": [
        "<div class=\"alert alert-block alert-info\">\n",
        "        <b> I will now convert the text to all lowercase.\n",
        "Our machine learning algorithms recognize words that start with a capital letter as different words, and we will convert them to lowercase. Thus, our machine learning algorithms will not perceive words that start with a capital letter as a different word.</b>\n",
        "</div>\n",
        "<br>"
      ]
    },
    {
      "cell_type": "code",
      "execution_count": null,
      "metadata": {
        "colab": {
          "base_uri": "https://localhost:8080/",
          "height": 140
        },
        "id": "VN9Oo5lQJBlW",
        "outputId": "7eccc38b-6f11-46f3-f076-944ef4053ae1"
      },
      "outputs": [
        {
          "data": {
            "application/vnd.google.colaboratory.intrinsic+json": {
              "type": "string"
            },
            "text/plain": [
              "'one of the other reviewers has mentioned that after watching just   oz episode you ll be hooked  they are right  as this is exactly what happened with me the first thing that struck me about oz was its brutality and unflinching scenes of violence  which set in right from the word go  trust me  this is not a show for the faint hearted or timid  this show pulls no punches with regards to drugs  sex or violence  its is hardcore  in the classic use of the word it is called oz as that is the nickname given to the oswald maximum security state penitentary  it focuses mainly on emerald city  an experimental section of the prison where all the cells have glass fronts and face inwards  so privacy is not high on the agenda  em city is home to many  aryans  muslims  gangstas  latinos  christians  italians  irish and more    so scuffles  death stares  dodgy dealings and shady agreements are never far away i would say the main appeal of the show is due to the fact that it goes where other shows wouldn t dare  forget pretty pictures painted for mainstream audiences  forget charm  forget romance   oz doesn t mess around  the first episode i ever saw struck me as so nasty it was surreal  i couldn t say i was ready for it  but as i watched more  i developed a taste for oz  and got accustomed to the high levels of graphic violence  not just violence  but injustice  crooked guards who ll be sold out for a nickel  inmates who ll kill on order and get away with it  well mannered  middle class inmates being turned into prison bitches due to their lack of street skills or prison experience  watching oz  you may become comfortable with what is uncomfortable viewing    thats if you can get in touch with your darker side '"
            ]
          },
          "execution_count": 15,
          "metadata": {},
          "output_type": "execute_result"
        }
      ],
      "source": [
        "example_review = example_review.lower()\n",
        "example_review"
      ]
    },
    {
      "cell_type": "markdown",
      "metadata": {
        "id": "bXpvC6l0JBlW"
      },
      "source": [
        "## An important point! - 2\n",
        "---\n",
        "<div class=\"alert alert-block alert-info\">\n",
        "        <b> Stopwords (We want words like the, is, are not to be used by AI. These are grammar words..) That's why we're going to remove them. </b>\n",
        "</div>\n",
        "<br>"
      ]
    },
    {
      "cell_type": "code",
      "execution_count": null,
      "metadata": {
        "id": "YhriGyvyJBlW"
      },
      "outputs": [],
      "source": [
        "example_review = example_review.split()"
      ]
    },
    {
      "cell_type": "code",
      "execution_count": null,
      "metadata": {
        "colab": {
          "base_uri": "https://localhost:8080/"
        },
        "id": "lXyxcEDkJBlW",
        "outputId": "6419dc68-c338-49d0-efc3-bb7981ebd23e"
      },
      "outputs": [
        {
          "name": "stderr",
          "output_type": "stream",
          "text": [
            "[nltk_data] Downloading package stopwords to /root/nltk_data...\n",
            "[nltk_data]   Package stopwords is already up-to-date!\n"
          ]
        },
        {
          "data": {
            "text/plain": [
              "True"
            ]
          },
          "execution_count": 17,
          "metadata": {},
          "output_type": "execute_result"
        }
      ],
      "source": [
        "nltk.download('stopwords')"
      ]
    },
    {
      "cell_type": "code",
      "execution_count": null,
      "metadata": {
        "colab": {
          "base_uri": "https://localhost:8080/"
        },
        "id": "oSODbzsUJBlX",
        "outputId": "b430355e-8f9f-4803-a0e1-68f7f8c27d83"
      },
      "outputs": [
        {
          "data": {
            "text/plain": [
              "['one',\n",
              " 'reviewers',\n",
              " 'mentioned',\n",
              " 'watching',\n",
              " 'oz',\n",
              " 'episode',\n",
              " 'hooked',\n",
              " 'right',\n",
              " 'exactly',\n",
              " 'happened',\n",
              " 'first',\n",
              " 'thing',\n",
              " 'struck',\n",
              " 'oz',\n",
              " 'brutality',\n",
              " 'unflinching',\n",
              " 'scenes',\n",
              " 'violence',\n",
              " 'set',\n",
              " 'right',\n",
              " 'word',\n",
              " 'go',\n",
              " 'trust',\n",
              " 'show',\n",
              " 'faint',\n",
              " 'hearted',\n",
              " 'timid',\n",
              " 'show',\n",
              " 'pulls',\n",
              " 'punches',\n",
              " 'regards',\n",
              " 'drugs',\n",
              " 'sex',\n",
              " 'violence',\n",
              " 'hardcore',\n",
              " 'classic',\n",
              " 'use',\n",
              " 'word',\n",
              " 'called',\n",
              " 'oz',\n",
              " 'nickname',\n",
              " 'given',\n",
              " 'oswald',\n",
              " 'maximum',\n",
              " 'security',\n",
              " 'state',\n",
              " 'penitentary',\n",
              " 'focuses',\n",
              " 'mainly',\n",
              " 'emerald',\n",
              " 'city',\n",
              " 'experimental',\n",
              " 'section',\n",
              " 'prison',\n",
              " 'cells',\n",
              " 'glass',\n",
              " 'fronts',\n",
              " 'face',\n",
              " 'inwards',\n",
              " 'privacy',\n",
              " 'high',\n",
              " 'agenda',\n",
              " 'em',\n",
              " 'city',\n",
              " 'home',\n",
              " 'many',\n",
              " 'aryans',\n",
              " 'muslims',\n",
              " 'gangstas',\n",
              " 'latinos',\n",
              " 'christians',\n",
              " 'italians',\n",
              " 'irish',\n",
              " 'scuffles',\n",
              " 'death',\n",
              " 'stares',\n",
              " 'dodgy',\n",
              " 'dealings',\n",
              " 'shady',\n",
              " 'agreements',\n",
              " 'never',\n",
              " 'far',\n",
              " 'away',\n",
              " 'would',\n",
              " 'say',\n",
              " 'main',\n",
              " 'appeal',\n",
              " 'show',\n",
              " 'due',\n",
              " 'fact',\n",
              " 'goes',\n",
              " 'shows',\n",
              " 'dare',\n",
              " 'forget',\n",
              " 'pretty',\n",
              " 'pictures',\n",
              " 'painted',\n",
              " 'mainstream',\n",
              " 'audiences',\n",
              " 'forget',\n",
              " 'charm',\n",
              " 'forget',\n",
              " 'romance',\n",
              " 'oz',\n",
              " 'mess',\n",
              " 'around',\n",
              " 'first',\n",
              " 'episode',\n",
              " 'ever',\n",
              " 'saw',\n",
              " 'struck',\n",
              " 'nasty',\n",
              " 'surreal',\n",
              " 'say',\n",
              " 'ready',\n",
              " 'watched',\n",
              " 'developed',\n",
              " 'taste',\n",
              " 'oz',\n",
              " 'got',\n",
              " 'accustomed',\n",
              " 'high',\n",
              " 'levels',\n",
              " 'graphic',\n",
              " 'violence',\n",
              " 'violence',\n",
              " 'injustice',\n",
              " 'crooked',\n",
              " 'guards',\n",
              " 'sold',\n",
              " 'nickel',\n",
              " 'inmates',\n",
              " 'kill',\n",
              " 'order',\n",
              " 'get',\n",
              " 'away',\n",
              " 'well',\n",
              " 'mannered',\n",
              " 'middle',\n",
              " 'class',\n",
              " 'inmates',\n",
              " 'turned',\n",
              " 'prison',\n",
              " 'bitches',\n",
              " 'due',\n",
              " 'lack',\n",
              " 'street',\n",
              " 'skills',\n",
              " 'prison',\n",
              " 'experience',\n",
              " 'watching',\n",
              " 'oz',\n",
              " 'may',\n",
              " 'become',\n",
              " 'comfortable',\n",
              " 'uncomfortable',\n",
              " 'viewing',\n",
              " 'thats',\n",
              " 'get',\n",
              " 'touch',\n",
              " 'darker',\n",
              " 'side']"
            ]
          },
          "execution_count": 18,
          "metadata": {},
          "output_type": "execute_result"
        }
      ],
      "source": [
        "words = set(stopwords.words(\"english\")) # conversion into set for fast searching !!!\n",
        "example_review = [word for word in example_review if word not in words]\n",
        "example_review"
      ]
    },
    {
      "cell_type": "markdown",
      "metadata": {
        "id": "GfR4ieAeJBlX"
      },
      "source": [
        "<div style=\"color:white;\n",
        "           display:fill;\n",
        "           border-radius:5px;\n",
        "           background-color:blue;\n",
        "           font-size:110%;\n",
        "           font-family:Verdana;\n",
        "           letter-spacing:0.5px\">\n",
        "    <p>  Perfect if you understand this cleaning process (through the example.) </p>\n",
        "</div>"
      ]
    },
    {
      "cell_type": "markdown",
      "metadata": {
        "id": "XSXMBsyuJBlX"
      },
      "source": [
        "## Now let's apply this cleanup to the entire dataframe\n",
        "---"
      ]
    },
    {
      "cell_type": "code",
      "execution_count": null,
      "metadata": {
        "id": "759gw6YeJBlX"
      },
      "outputs": [],
      "source": [
        "def process(review):\n",
        "    # review without HTML tags\n",
        "    review = BeautifulSoup(review).get_text()\n",
        "    # review without punctuation and numbers\n",
        "    review = re.sub(\"[^a-zA-Z]\",' ',review)\n",
        "    # converting into lowercase and splitting to eliminate stopwords\n",
        "    review = review.lower()\n",
        "    review = review.split()\n",
        "    # review without stopwords\n",
        "    swords = set(stopwords.words(\"english\"))  # conversion into set for fast searching\n",
        "    review = [w for w in review if w not in swords]\n",
        "    # splitted paragraph'ları space ile birleştiriyoruz return\n",
        "    return(\" \".join(review))"
      ]
    },
    {
      "cell_type": "code",
      "execution_count": null,
      "metadata": {
        "colab": {
          "base_uri": "https://localhost:8080/"
        },
        "id": "2_akRBguJBlX",
        "outputId": "117a9c3a-7a50-46e7-b56c-3ce3c1f1f67e"
      },
      "outputs": [
        {
          "name": "stdout",
          "output_type": "stream",
          "text": [
            "Result = 2500\n",
            "Result = 5000\n",
            "Result = 7500\n",
            "Result = 10000\n",
            "Result = 12500\n",
            "Result = 15000\n",
            "Result = 17500\n",
            "Result = 20000\n",
            "Result = 22500\n",
            "Result = 25000\n",
            "Result = 27500\n",
            "Result = 30000\n",
            "Result = 32500\n",
            "Result = 35000\n",
            "Result = 37500\n",
            "Result = 40000\n",
            "Result = 42500\n",
            "Result = 45000\n",
            "Result = 47500\n",
            "Result = 50000\n"
          ]
        }
      ],
      "source": [
        "# We can see the status of the review process by printing a line after every 2500 reviews.\n",
        "\n",
        "train_data = []\n",
        "for i in range(len(df[\"review\"])):\n",
        "    if (i+1)%2500 == 0:\n",
        "        print(\"Result =\", i+1)\n",
        "    train_data.append(process(df[\"review\"][i]))"
      ]
    },
    {
      "cell_type": "markdown",
      "metadata": {
        "id": "DfGQCREmJBlY"
      },
      "source": [
        "## Split : Train Path / Test Path\n",
        "---"
      ]
    },
    {
      "cell_type": "code",
      "execution_count": null,
      "metadata": {
        "id": "uRcJhGb3JBlY"
      },
      "outputs": [],
      "source": [
        "independent = train_data\n",
        "dependent = np.array(df[\"sentiment\"])\n",
        "\n",
        "train_x, test_x, y_train, y_test = train_test_split(independent,dependent, stratify = dependent ,test_size = 0.2, shuffle = True , random_state = 25)\n"
      ]
    },
    {
      "cell_type": "markdown",
      "metadata": {
        "id": "Rv4cqCCuJBlY"
      },
      "source": [
        "### We are creating Bag of Words!\n",
        "---\n",
        "<div class=\"alert alert-block alert-info\">\n",
        "        <b> We have cleaned our data, but for the artificial intelligence to work, it is necessary to convert this text-based data into numbers and a matrix called bag of words. Here we use the CountVectorizer tool in sklearn for this purpose </b>\n",
        "</div>\n",
        "<br>"
      ]
    },
    {
      "cell_type": "markdown",
      "metadata": {
        "id": "KYNbmT5ZJBlY"
      },
      "source": [
        "<img src=\"https://teknofesor.com/wp-content/uploads/2020/01/bag-of-words-nedir.png\" width=\"900\" height=\"900\" >"
      ]
    },
    {
      "cell_type": "code",
      "execution_count": null,
      "metadata": {
        "id": "StgMnIOHJBlZ"
      },
      "outputs": [],
      "source": [
        "# # Using the countvectorizer function in sklearn, we create a bag of words with a maximum of 10.000 words...\n",
        "vectorizer = CountVectorizer( max_features = 10000 )\n",
        "\n",
        "# we convert our train data to feature vector matrix\n",
        "train_x = vectorizer.fit_transform(train_x)"
      ]
    },
    {
      "cell_type": "code",
      "execution_count": null,
      "metadata": {
        "colab": {
          "base_uri": "https://localhost:8080/",
          "height": 74
        },
        "id": "X-O5OoatJBlZ",
        "outputId": "449a0c0c-b6fe-49bf-cb9c-c792ab836f21"
      },
      "outputs": [
        {
          "data": {
            "text/html": [
              "<style>#sk-container-id-1 {color: black;background-color: white;}#sk-container-id-1 pre{padding: 0;}#sk-container-id-1 div.sk-toggleable {background-color: white;}#sk-container-id-1 label.sk-toggleable__label {cursor: pointer;display: block;width: 100%;margin-bottom: 0;padding: 0.3em;box-sizing: border-box;text-align: center;}#sk-container-id-1 label.sk-toggleable__label-arrow:before {content: \"▸\";float: left;margin-right: 0.25em;color: #696969;}#sk-container-id-1 label.sk-toggleable__label-arrow:hover:before {color: black;}#sk-container-id-1 div.sk-estimator:hover label.sk-toggleable__label-arrow:before {color: black;}#sk-container-id-1 div.sk-toggleable__content {max-height: 0;max-width: 0;overflow: hidden;text-align: left;background-color: #f0f8ff;}#sk-container-id-1 div.sk-toggleable__content pre {margin: 0.2em;color: black;border-radius: 0.25em;background-color: #f0f8ff;}#sk-container-id-1 input.sk-toggleable__control:checked~div.sk-toggleable__content {max-height: 200px;max-width: 100%;overflow: auto;}#sk-container-id-1 input.sk-toggleable__control:checked~label.sk-toggleable__label-arrow:before {content: \"▾\";}#sk-container-id-1 div.sk-estimator input.sk-toggleable__control:checked~label.sk-toggleable__label {background-color: #d4ebff;}#sk-container-id-1 div.sk-label input.sk-toggleable__control:checked~label.sk-toggleable__label {background-color: #d4ebff;}#sk-container-id-1 input.sk-hidden--visually {border: 0;clip: rect(1px 1px 1px 1px);clip: rect(1px, 1px, 1px, 1px);height: 1px;margin: -1px;overflow: hidden;padding: 0;position: absolute;width: 1px;}#sk-container-id-1 div.sk-estimator {font-family: monospace;background-color: #f0f8ff;border: 1px dotted black;border-radius: 0.25em;box-sizing: border-box;margin-bottom: 0.5em;}#sk-container-id-1 div.sk-estimator:hover {background-color: #d4ebff;}#sk-container-id-1 div.sk-parallel-item::after {content: \"\";width: 100%;border-bottom: 1px solid gray;flex-grow: 1;}#sk-container-id-1 div.sk-label:hover label.sk-toggleable__label {background-color: #d4ebff;}#sk-container-id-1 div.sk-serial::before {content: \"\";position: absolute;border-left: 1px solid gray;box-sizing: border-box;top: 0;bottom: 0;left: 50%;z-index: 0;}#sk-container-id-1 div.sk-serial {display: flex;flex-direction: column;align-items: center;background-color: white;padding-right: 0.2em;padding-left: 0.2em;position: relative;}#sk-container-id-1 div.sk-item {position: relative;z-index: 1;}#sk-container-id-1 div.sk-parallel {display: flex;align-items: stretch;justify-content: center;background-color: white;position: relative;}#sk-container-id-1 div.sk-item::before, #sk-container-id-1 div.sk-parallel-item::before {content: \"\";position: absolute;border-left: 1px solid gray;box-sizing: border-box;top: 0;bottom: 0;left: 50%;z-index: -1;}#sk-container-id-1 div.sk-parallel-item {display: flex;flex-direction: column;z-index: 1;position: relative;background-color: white;}#sk-container-id-1 div.sk-parallel-item:first-child::after {align-self: flex-end;width: 50%;}#sk-container-id-1 div.sk-parallel-item:last-child::after {align-self: flex-start;width: 50%;}#sk-container-id-1 div.sk-parallel-item:only-child::after {width: 0;}#sk-container-id-1 div.sk-dashed-wrapped {border: 1px dashed gray;margin: 0 0.4em 0.5em 0.4em;box-sizing: border-box;padding-bottom: 0.4em;background-color: white;}#sk-container-id-1 div.sk-label label {font-family: monospace;font-weight: bold;display: inline-block;line-height: 1.2em;}#sk-container-id-1 div.sk-label-container {text-align: center;}#sk-container-id-1 div.sk-container {/* jupyter's `normalize.less` sets `[hidden] { display: none; }` but bootstrap.min.css set `[hidden] { display: none !important; }` so we also need the `!important` here to be able to override the default hidden behavior on the sphinx rendered scikit-learn.org. See: https://github.com/scikit-learn/scikit-learn/issues/21755 */display: inline-block !important;position: relative;}#sk-container-id-1 div.sk-text-repr-fallback {display: none;}</style><div id=\"sk-container-id-1\" class=\"sk-top-container\"><div class=\"sk-text-repr-fallback\"><pre>CountVectorizer(max_features=10000)</pre><b>In a Jupyter environment, please rerun this cell to show the HTML representation or trust the notebook. <br />On GitHub, the HTML representation is unable to render, please try loading this page with nbviewer.org.</b></div><div class=\"sk-container\" hidden><div class=\"sk-item\"><div class=\"sk-estimator sk-toggleable\"><input class=\"sk-toggleable__control sk-hidden--visually\" id=\"sk-estimator-id-1\" type=\"checkbox\" checked><label for=\"sk-estimator-id-1\" class=\"sk-toggleable__label sk-toggleable__label-arrow\">CountVectorizer</label><div class=\"sk-toggleable__content\"><pre>CountVectorizer(max_features=10000)</pre></div></div></div></div></div>"
            ],
            "text/plain": [
              "CountVectorizer(max_features=10000)"
            ]
          },
          "execution_count": 23,
          "metadata": {},
          "output_type": "execute_result"
        }
      ],
      "source": [
        "vectorizer"
      ]
    },
    {
      "cell_type": "code",
      "execution_count": null,
      "metadata": {
        "colab": {
          "base_uri": "https://localhost:8080/"
        },
        "id": "aF_wz7c6JBlZ",
        "outputId": "26e5aae6-aebd-4290-a4bc-f339ee5a0658"
      },
      "outputs": [
        {
          "data": {
            "text/plain": [
              "<40000x10000 sparse matrix of type '<class 'numpy.int64'>'\n",
              "\twith 3439274 stored elements in Compressed Sparse Row format>"
            ]
          },
          "execution_count": 24,
          "metadata": {},
          "output_type": "execute_result"
        }
      ],
      "source": [
        "train_x"
      ]
    },
    {
      "cell_type": "code",
      "execution_count": null,
      "metadata": {
        "id": "_sPMuzYOJBlZ"
      },
      "outputs": [],
      "source": [
        "# Since our machine learning algorithm requires an array for the training process, we convert it to an array.\n",
        "train_x = train_x.toarray()\n",
        "train_y = y_train"
      ]
    },
    {
      "cell_type": "code",
      "execution_count": null,
      "metadata": {
        "colab": {
          "base_uri": "https://localhost:8080/"
        },
        "id": "AK83VNH2JBla",
        "outputId": "17c96168-e551-4b97-c582-8e495c181303"
      },
      "outputs": [
        {
          "name": "stdout",
          "output_type": "stream",
          "text": [
            "Total training data : 40000\n",
            "Total training data : 40000\n"
          ]
        }
      ],
      "source": [
        "print(\"Total training data :\", train_x.shape[0])\n",
        "print(\"Total training data :\", train_y.shape[0])"
      ]
    },
    {
      "cell_type": "markdown",
      "metadata": {
        "id": "AcVVhb4-JBla"
      },
      "source": [
        "# Model evaluation"
      ]
    },
    {
      "cell_type": "code",
      "execution_count": null,
      "metadata": {
        "id": "nVaq42bJJBla"
      },
      "outputs": [],
      "source": [
        "models = []\n",
        "\n",
        "models.append(('Logistic Regression',LogisticRegression()))\n",
        "models.append(('Random Forest Classifier',RandomForestClassifier()))\n",
        "models.append(('Decision Tree Classifier',DecisionTreeClassifier()))"
      ]
    },
    {
      "cell_type": "code",
      "execution_count": null,
      "metadata": {
        "id": "hZc3K8-yJBlc"
      },
      "outputs": [],
      "source": [
        "# We convert our test data to vector matrix feature\n",
        "#This time for our test:\n",
        "test_result = vectorizer.transform(test_x)\n"
      ]
    },
    {
      "cell_type": "code",
      "execution_count": null,
      "metadata": {
        "id": "qR-EH_pjJBlc"
      },
      "outputs": [],
      "source": [
        "test_result = test_result.toarray()"
      ]
    },
    {
      "cell_type": "code",
      "execution_count": null,
      "metadata": {
        "colab": {
          "base_uri": "https://localhost:8080/"
        },
        "id": "P7bjMlGIJBlc",
        "outputId": "fc5cce03-5da5-4f27-f63f-399ba6e6a9d0"
      },
      "outputs": [
        {
          "data": {
            "text/plain": [
              "(10000, 10000)"
            ]
          },
          "execution_count": 30,
          "metadata": {},
          "output_type": "execute_result"
        }
      ],
      "source": [
        "test_result.shape"
      ]
    },
    {
      "cell_type": "code",
      "execution_count": null,
      "metadata": {
        "colab": {
          "background_save": true,
          "base_uri": "https://localhost:8080/"
        },
        "id": "hQq72v88JBld",
        "outputId": "c3090288-dd17-46d3-ed9a-3f46c8419fe9"
      },
      "outputs": [
        {
          "name": "stdout",
          "output_type": "stream",
          "text": [
            "CPU times: user 1min 44s, sys: 14 s, total: 1min 58s\n",
            "Wall time: 1min 14s\n",
            "Logistic Regression Accuracy Score :  0.8767\n",
            "Logistic Regression F1 Score :  0.8766926891095372\n",
            "-----------------------------------------------------------------------\n",
            "CPU times: user 4min 15s, sys: 1.45 s, total: 4min 16s\n",
            "Wall time: 4min 26s\n",
            "Random Forest Classifier Accuracy Score :  0.8504\n",
            "Random Forest Classifier F1 Score :  0.8503986535878822\n",
            "-----------------------------------------------------------------------\n",
            "CPU times: user 5min 31s, sys: 633 ms, total: 5min 32s\n",
            "Wall time: 5min 33s\n",
            "Decision Tree Classifier Accuracy Score :  0.7173\n",
            "Decision Tree Classifier F1 Score :  0.7172894803415636\n",
            "-----------------------------------------------------------------------\n"
          ]
        }
      ],
      "source": [
        "for name, model in models:\n",
        "\n",
        "    %time model.fit(train_x, train_y)\n",
        "    test_pred = model.predict(test_result)\n",
        "    print(name ,'Accuracy Score : ',accuracy_score(y_test, test_pred))\n",
        "    print(name ,'F1 Score : ',f1_score(y_test, test_pred, average='weighted'))\n",
        "    print('-----------------------------------------------------------------------')"
      ]
    }
  ],
  "metadata": {
    "colab": {
      "provenance": []
    },
    "kaggle": {
      "accelerator": "none",
      "dataSources": [
        {
          "datasetId": 134715,
          "sourceId": 320111,
          "sourceType": "datasetVersion"
        }
      ],
      "dockerImageVersionId": 30207,
      "isGpuEnabled": false,
      "isInternetEnabled": false,
      "language": "python",
      "sourceType": "notebook"
    },
    "kernelspec": {
      "display_name": "Python 3",
      "language": "python",
      "name": "python3"
    },
    "language_info": {
      "codemirror_mode": {
        "name": "ipython",
        "version": 3
      },
      "file_extension": ".py",
      "mimetype": "text/x-python",
      "name": "python",
      "nbconvert_exporter": "python",
      "pygments_lexer": "ipython3",
      "version": "3.6.4"
    }
  },
  "nbformat": 4,
  "nbformat_minor": 0
}